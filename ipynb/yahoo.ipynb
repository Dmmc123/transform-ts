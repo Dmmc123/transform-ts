{
 "cells": [
  {
   "cell_type": "code",
   "execution_count": 115,
   "metadata": {
    "collapsed": true,
    "ExecuteTime": {
     "start_time": "2023-05-03T18:25:35.060373Z",
     "end_time": "2023-05-03T18:25:35.101084Z"
    }
   },
   "outputs": [],
   "source": [
    "from dotenv import load_dotenv\n",
    "load_dotenv(\"../.env\")\n",
    "import os\n",
    "\n",
    "import pandas as pd\n",
    "from pydantic import BaseModel, validator\n",
    "\n",
    "import re\n",
    "\n",
    "import yfinance as yf\n",
    "from fredapi import Fred\n",
    "\n",
    "from talib import MA, EMA, AROON, MFI, MOM\n",
    "import numpy as np"
   ]
  },
  {
   "cell_type": "code",
   "execution_count": 120,
   "outputs": [],
   "source": [
    "class DataCollector(BaseModel):\n",
    "    ticker_symbol: str\n",
    "    fred_api_key: str\n",
    "\n",
    "    @validator(\"ticker_symbol\")\n",
    "    def parse_ticker_symbol(cls, value: str) -> str:\n",
    "        if re.fullmatch(\"[A-Z]{4}\", value):\n",
    "            return value\n",
    "        raise ValueError(f\"ticker_symbol should consist of 4 uppercase letters, got: {value}\")\n",
    "\n",
    "    def _get_prices(self) -> pd.DataFrame:\n",
    "        stock = yf.Ticker(self.ticker_symbol)\n",
    "        prices = stock.history(period=\"max\", interval=\"1d\").reset_index()\n",
    "        # leave out date and OHLCV\n",
    "        prices = prices[[\"Date\", \"Open\", \"High\", \"Low\", \"Close\", \"Volume\"]]\n",
    "        # leave out only info about the day\n",
    "        prices[\"Date\"] = pd.to_datetime(prices[\"Date\"].dt.date)\n",
    "        return prices\n",
    "\n",
    "    def _enrich_indicators(self, features: pd.DataFrame) -> pd.DataFrame:\n",
    "        features[\"MA\"] = MA(features[\"Close\"])\n",
    "        features[\"EMA\"] = EMA(features[\"Close\"])\n",
    "        aroon_down, aroon_up = AROON(features[\"High\"], features[\"Low\"])\n",
    "        features[\"AROONDOWN\"], features[\"AROONUP\"] = aroon_down, aroon_up\n",
    "        features[\"MFI\"] = MFI(features[\"High\"], features[\"Low\"], features[\"Close\"], features[\"Volume\"])\n",
    "        features[\"MOM\"] = MOM(features[\"Close\"])\n",
    "        return features.dropna()\n",
    "\n",
    "    def _enrich_worldwide_data(self, features: pd.DataFrame, world_series_idx: list[str]) -> pd.DataFrame:\n",
    "        # connect to database\n",
    "        fred = Fred(api_key=self.fred_api_key)\n",
    "        # join and append each series individually\n",
    "        for series_id in world_series_idx:\n",
    "            min_date, max_date = features[\"Date\"].min(), features[\"Date\"].max(),\n",
    "            feature = fred.get_series(\n",
    "                series_id=series_id,\n",
    "                observation_start=min_date,\n",
    "                observation_end=max_date\n",
    "            )\n",
    "            # transform array into dataframe\n",
    "            feature = feature.reset_index()\n",
    "            feature.columns = [\"Date\", series_id]\n",
    "            # concat features\n",
    "            features = pd.merge(left=features, right=feature, on=\"Date\", how=\"inner\")\n",
    "        return features\n",
    "\n",
    "    def collect(self, world_series_idx: list[str], output_dir: str) -> None:\n",
    "        features = self._get_prices()\n",
    "        features = self._enrich_indicators(features)\n",
    "        features = self._enrich_worldwide_data(features, world_series_idx)\n",
    "        features.to_csv(f\"{output_dir}/{self.ticker_symbol}.csv\", index=False)\n",
    "\n",
    "collector = DataCollector(ticker_symbol=\"TSLA\", fred_api_key=os.environ[\"fred-api-key\"])\n",
    "collector.collect(\n",
    "    world_series_idx=[\"T10YIE\", \"SP500\", \"SOFR180DAYAVG\", \"IHLIDXUS\", \"OBMMIC15YF\"],\n",
    "    output_dir=\"../data\"\n",
    ")"
   ],
   "metadata": {
    "collapsed": false,
    "ExecuteTime": {
     "start_time": "2023-05-03T18:31:38.369488Z",
     "end_time": "2023-05-03T18:31:58.236166Z"
    }
   }
  },
  {
   "cell_type": "code",
   "execution_count": null,
   "outputs": [],
   "source": [],
   "metadata": {
    "collapsed": false
   }
  }
 ],
 "metadata": {
  "kernelspec": {
   "display_name": "Python 3",
   "language": "python",
   "name": "python3"
  },
  "language_info": {
   "codemirror_mode": {
    "name": "ipython",
    "version": 2
   },
   "file_extension": ".py",
   "mimetype": "text/x-python",
   "name": "python",
   "nbconvert_exporter": "python",
   "pygments_lexer": "ipython2",
   "version": "2.7.6"
  }
 },
 "nbformat": 4,
 "nbformat_minor": 0
}
